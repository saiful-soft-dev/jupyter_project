{
 "cells": [
  {
   "cell_type": "code",
   "execution_count": 2,
   "id": "b2e3e2f0",
   "metadata": {},
   "outputs": [
    {
     "name": "stdout",
     "output_type": "stream",
     "text": [
      "hello y name is Saiful Islam and this my first jupyter notebook on Github! \n"
     ]
    }
   ],
   "source": [
    "name='Saiful Islam'\n",
    "print(f\"hello y name is {name} and this my first jupyter notebook on Github! \")"
   ]
  },
  {
   "cell_type": "code",
   "execution_count": null,
   "id": "155637a1",
   "metadata": {},
   "outputs": [],
   "source": []
  }
 ],
 "metadata": {
  "kernelspec": {
   "display_name": "Python 3 (ipykernel)",
   "language": "python",
   "name": "python3"
  },
  "language_info": {
   "codemirror_mode": {
    "name": "ipython",
    "version": 3
   },
   "file_extension": ".py",
   "mimetype": "text/x-python",
   "name": "python",
   "nbconvert_exporter": "python",
   "pygments_lexer": "ipython3",
   "version": "3.9.13"
  }
 },
 "nbformat": 4,
 "nbformat_minor": 5
}
